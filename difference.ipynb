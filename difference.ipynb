{
 "cells": [
  {
   "cell_type": "code",
   "execution_count": 13,
   "metadata": {},
   "outputs": [],
   "source": [
    "import pandas as pd\n",
    "import numpy as np\n",
    "from scipy.stats import kstest\n",
    "import scipy as scipy"
   ]
  },
  {
   "cell_type": "code",
   "execution_count": 14,
   "metadata": {},
   "outputs": [],
   "source": [
    "# link to data: imf - https://www.imf.org/external/datamapper/NGDP_RPCH@WEO/VNM?zoom=VNM&highlight=VNM, world_bank:https://data.worldbank.org/indicator/NY.GDP.MKTP.KD.ZG?locations=VN\n",
    "worldbank_data = \"5.60\t3.40\t2.50\t5.10\t7.80\t5.00\t5.80\t8.70\t8.10\t8.80\t9.50\t9.30\t8.20\t5.80\t4.80\t6.80\t6.90\t7.10\t7.30\t7.80\t7.50\t7.00\t7.10\t5.70\t5.40\t6.40\t6.40\t5.50\t5.60\t6.40\t7.00\t6.70\t6.90\t7.50\t7.40\t2.90\t2.60\t8.00\".split(\"\t\")\n",
    "imf_data = \"3.81\t2.79\t3.58\t5.14\t7.36\t5.10\t5.96\t8.65\t8.07\t8.84\t9.54\t9.34\t8.15\t5.76\t4.77\t6.79\t6.19\t6.32\t6.90\t7.54\t7.55\t6.98\t7.13\t5.66\t5.40\t6.42\t6.41\t5.50\t5.55\t6.42\t6.99\t6.69\t6.94\t7.47\t7.36\t2.87\t2.56\t8.02\".split(\"\t\")"
   ]
  },
  {
   "cell_type": "code",
   "execution_count": 22,
   "metadata": {},
   "outputs": [],
   "source": [
    "worldbank_data = np.array(worldbank_data).astype(\"float32\")\n",
    "imf_data = np.array(imf_data).astype(\"float32\")"
   ]
  },
  {
   "cell_type": "code",
   "execution_count": 23,
   "metadata": {},
   "outputs": [
    {
     "data": {
      "text/plain": [
       "KstestResult(statistic=0.10526315789473684, pvalue=0.9866453783650283, statistic_location=6.99, statistic_sign=-1)"
      ]
     },
     "execution_count": 23,
     "metadata": {},
     "output_type": "execute_result"
    }
   ],
   "source": [
    "kstest(worldbank_data,imf_data)"
   ]
  },
  {
   "cell_type": "code",
   "execution_count": 42,
   "metadata": {},
   "outputs": [
    {
     "data": {
      "text/plain": [
       "0.16691575552287855"
      ]
     },
     "execution_count": 42,
     "metadata": {},
     "output_type": "execute_result"
    }
   ],
   "source": [
    "np.sum((worldbank_data-imf_data)**2)/worldbank_data.size"
   ]
  },
  {
   "cell_type": "code",
   "execution_count": 31,
   "metadata": {},
   "outputs": [
    {
     "data": {
      "text/plain": [
       "0.06627608600415681"
      ]
     },
     "execution_count": 31,
     "metadata": {},
     "output_type": "execute_result"
    }
   ],
   "source": [
    "np.sqrt(np.sum((worldbank_data-imf_data)**2))/worldbank_data.size"
   ]
  },
  {
   "cell_type": "code",
   "execution_count": 32,
   "metadata": {},
   "outputs": [
    {
     "data": {
      "text/plain": [
       "1.0361845"
      ]
     },
     "execution_count": 32,
     "metadata": {},
     "output_type": "execute_result"
    }
   ],
   "source": [
    "np.prod(1+worldbank_data/100)/np.prod(1+imf_data/100)"
   ]
  },
  {
   "cell_type": "code",
   "execution_count": 37,
   "metadata": {},
   "outputs": [],
   "source": [
    "import matplotlib.pyplot as plt"
   ]
  },
  {
   "cell_type": "code",
   "execution_count": 40,
   "metadata": {},
   "outputs": [
    {
     "data": {
      "text/plain": [
       "(array([ 1.,  0.,  0.,  0.,  0.,  0.,  2., 28.,  0.,  1.,  2.,  1.,  2.,\n",
       "         0.,  0.,  0.,  0.,  0.,  0.,  1.]),\n",
       " array([-1.07999992, -0.93649995, -0.79299992, -0.64949995, -0.50599992,\n",
       "        -0.36249995, -0.21899995, -0.07549997,  0.06800003,  0.21150002,\n",
       "         0.35500002,  0.49850002,  0.64200002,  0.78549999,  0.92900002,\n",
       "         1.07249999,  1.21599996,  1.35949993,  1.50300002,  1.64649999,\n",
       "         1.78999996]),\n",
       " <BarContainer object of 20 artists>)"
      ]
     },
     "execution_count": 40,
     "metadata": {},
     "output_type": "execute_result"
    },
    {
     "data": {
      "image/png": "[encoded data removed]",
      "text/plain": [
       "<Figure size 640x480 with 1 Axes>"
      ]
     },
     "metadata": {},
     "output_type": "display_data"
    }
   ],
   "source": [
    "plt.hist(worldbank_data-imf_data,bins=20)"
   ]
  },
  {
   "cell_type": "code",
   "execution_count": 41,
   "metadata": {},
   "outputs": [
    {
     "data": {
      "text/plain": [
       "array([ 1.79      ,  0.61000013, -1.0799999 , -0.03999996,  0.44000006,\n",
       "       -0.0999999 , -0.15999985,  0.05000019,  0.03000069, -0.03999996,\n",
       "       -0.03999996, -0.03999996,  0.05000019,  0.03999996,  0.03000021,\n",
       "        0.01000023,  0.71000004,  0.77999973,  0.4000001 ,  0.26000023,\n",
       "       -0.05000019,  0.01999998, -0.03000021,  0.03999996,  0.        ,\n",
       "       -0.01999998, -0.00999975,  0.        ,  0.04999971, -0.01999998,\n",
       "        0.01000023,  0.00999975, -0.03999996,  0.03000021,  0.03999996,\n",
       "        0.03000021,  0.03999996, -0.02000046], dtype=float32)"
      ]
     },
     "execution_count": 41,
     "metadata": {},
     "output_type": "execute_result"
    }
   ],
   "source": [
    "worldbank_data-imf_data"
   ]
  }
 ],
 "metadata": {
  "kernelspec": {
   "display_name": "Python 3",
   "language": "python",
   "name": "python3"
  },
  "language_info": {
   "codemirror_mode": {
    "name": "ipython",
    "version": 3
   },
   "file_extension": ".py",
   "mimetype": "text/x-python",
   "name": "python",
   "nbconvert_exporter": "python",
   "pygments_lexer": "ipython3",
   "version": "3.11.7"
  }
 },
 "nbformat": 4,
 "nbformat_minor": 2
}
